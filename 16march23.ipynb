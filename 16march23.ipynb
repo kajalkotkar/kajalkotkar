{
 "cells": [
  {
   "cell_type": "code",
   "execution_count": 1,
   "id": "9d065640",
   "metadata": {},
   "outputs": [
    {
     "name": "stdout",
     "output_type": "stream",
     "text": [
      "the addition is  50\n"
     ]
    }
   ],
   "source": [
    "#function with no parameter and no return type\n",
    "def add(): #function definition\n",
    "    a=20\n",
    "    b=30\n",
    "    print(\"the addition is \",a+b)\n",
    "add() #function calling    "
   ]
  },
  {
   "cell_type": "code",
   "execution_count": 2,
   "id": "15682f08",
   "metadata": {},
   "outputs": [
    {
     "name": "stdout",
     "output_type": "stream",
     "text": [
      "enter first number 75\n",
      "enter second number 87.5\n",
      "the addition of 75.0 and 87.5 is  162.5\n"
     ]
    }
   ],
   "source": [
    "#function with no parameter and no return type\n",
    "def add():\n",
    "    a=float(input(\"enter first number \"))\n",
    "    b=float(input(\"enter second number \"))\n",
    "    c=a+b\n",
    "    print(f\"the addition of {a} and {b} is \",c)\n",
    "add()"
   ]
  },
  {
   "cell_type": "code",
   "execution_count": 3,
   "id": "88d52294",
   "metadata": {},
   "outputs": [
    {
     "name": "stdout",
     "output_type": "stream",
     "text": [
      "40\n"
     ]
    }
   ],
   "source": [
    "#function with parameter and no return type\n",
    "def add(a,b):\n",
    "    c=a+b\n",
    "    print(c)\n",
    "add(10,30)"
   ]
  },
  {
   "cell_type": "code",
   "execution_count": 4,
   "id": "869fb04d",
   "metadata": {},
   "outputs": [
    {
     "name": "stdout",
     "output_type": "stream",
     "text": [
      "enter first number23\n",
      "enter second number46\n",
      "69.0\n"
     ]
    }
   ],
   "source": [
    "#function with parameter and no return type\n",
    "def add(a,b):\n",
    "    c=a+b\n",
    "    print(c)\n",
    "a=float(input(\"enter first number\"))\n",
    "b=float(input(\"enter second number\"))\n",
    "add(a,b)"
   ]
  },
  {
   "cell_type": "code",
   "execution_count": 5,
   "id": "8dedd104",
   "metadata": {},
   "outputs": [
    {
     "name": "stdout",
     "output_type": "stream",
     "text": [
      "enter first number 67\n",
      "enter second number 87\n",
      "154.0\n"
     ]
    }
   ],
   "source": [
    "#function with parameter and no return type and with user input\n",
    "def add(a,b):\n",
    "    c=a+b \n",
    "    print(c)\n",
    "num1=float(input(\"enter first number \"))\n",
    "num2=float(input(\"enter second number \"))\n",
    "add(num1,num2)"
   ]
  },
  {
   "cell_type": "code",
   "execution_count": 8,
   "id": "574e150e",
   "metadata": {},
   "outputs": [
    {
     "data": {
      "text/plain": [
       "-21"
      ]
     },
     "execution_count": 8,
     "metadata": {},
     "output_type": "execute_result"
    }
   ],
   "source": [
    "#function without parameter and return type\n",
    "def sub():\n",
    "    a=61\n",
    "    b=82\n",
    "    return a-b\n",
    "sub()"
   ]
  },
  {
   "cell_type": "code",
   "execution_count": 9,
   "id": "4eae43e9",
   "metadata": {},
   "outputs": [
    {
     "name": "stdout",
     "output_type": "stream",
     "text": [
      "the addition and subtraction is  (60, -40)\n"
     ]
    }
   ],
   "source": [
    "#function qithout parameter and return type\n",
    "def add():\n",
    "    c=10 #local variables\n",
    "    d=50\n",
    "    return c+d,c-d\n",
    "print(f\"the addition and subtraction is \",add())"
   ]
  },
  {
   "cell_type": "code",
   "execution_count": 10,
   "id": "1b32bdbb",
   "metadata": {},
   "outputs": [
    {
     "data": {
      "text/plain": [
       "tuple"
      ]
     },
     "execution_count": 10,
     "metadata": {},
     "output_type": "execute_result"
    }
   ],
   "source": [
    "type(add())"
   ]
  },
  {
   "cell_type": "code",
   "execution_count": 11,
   "id": "865f506f",
   "metadata": {},
   "outputs": [
    {
     "data": {
      "text/plain": [
       "68.5"
      ]
     },
     "execution_count": 11,
     "metadata": {},
     "output_type": "execute_result"
    }
   ],
   "source": [
    "#function with parameter and with return type\n",
    "def add(a,b):\n",
    "    return a+b\n",
    "add(23.50,45)"
   ]
  },
  {
   "cell_type": "code",
   "execution_count": 12,
   "id": "e5381fa7",
   "metadata": {},
   "outputs": [
    {
     "data": {
      "text/plain": [
       "'hellowelcome'"
      ]
     },
     "execution_count": 12,
     "metadata": {},
     "output_type": "execute_result"
    }
   ],
   "source": [
    "#function with parameter and with return type\n",
    "def add(a,b):\n",
    "    return a+b\n",
    "add(\"hello\",\"welcome\")"
   ]
  },
  {
   "cell_type": "code",
   "execution_count": null,
   "id": "70143ad4",
   "metadata": {},
   "outputs": [],
   "source": [
    "#function with all arithmetic \n"
   ]
  },
  {
   "cell_type": "code",
   "execution_count": 5,
   "id": "806bed78",
   "metadata": {},
   "outputs": [
    {
     "name": "stdout",
     "output_type": "stream",
     "text": [
      "the multiplication is  70205.935\n"
     ]
    }
   ],
   "source": [
    "#function with no parameter and no return type\n",
    "def mul(): #function definition\n",
    "    a=123.7\n",
    "    b=567.55\n",
    "    print(\"the multiplication is \",a*b)\n",
    "mul() #function calling    "
   ]
  },
  {
   "cell_type": "code",
   "execution_count": null,
   "id": "c079d028",
   "metadata": {},
   "outputs": [],
   "source": [
    "#function with parameter and no return type\n",
    "def sub(a,b):\n",
    "    c=b-a\n",
    "    print(c)\n",
    "a=float(input(\"enter first number\"))\n",
    "b=float(input(\"enter second number\"))\n",
    "sub(a,b)"
   ]
  },
  {
   "cell_type": "code",
   "execution_count": 1,
   "id": "481ae4f7",
   "metadata": {},
   "outputs": [
    {
     "name": "stdout",
     "output_type": "stream",
     "text": [
      "enter first number42\n",
      "enter second number56\n",
      "14.0\n"
     ]
    }
   ],
   "source": [
    "#function with parameter and no return type\n",
    "def sub(a,b):\n",
    "    c=b-a\n",
    "    print(c)\n",
    "a=float(input(\"enter first number\"))\n",
    "b=float(input(\"enter second number\"))\n",
    "sub(a,b)"
   ]
  },
  {
   "cell_type": "code",
   "execution_count": 4,
   "id": "76d163f5",
   "metadata": {},
   "outputs": [
    {
     "data": {
      "text/plain": [
       "3.727272727272727"
      ]
     },
     "execution_count": 4,
     "metadata": {},
     "output_type": "execute_result"
    }
   ],
   "source": [
    "#function without parameter and return type\n",
    "def div():\n",
    "    a=22\n",
    "    b=82\n",
    "    return b/a\n",
    "div()"
   ]
  },
  {
   "cell_type": "code",
   "execution_count": 3,
   "id": "6057e38f",
   "metadata": {},
   "outputs": [
    {
     "data": {
      "text/plain": [
       "1057.5"
      ]
     },
     "execution_count": 3,
     "metadata": {},
     "output_type": "execute_result"
    }
   ],
   "source": [
    "#function with parameter and with return type\n",
    "def mul(a,b):\n",
    "    return a*b\n",
    "mul(23.50,45)"
   ]
  },
  {
   "cell_type": "code",
   "execution_count": null,
   "id": "70d1c873",
   "metadata": {},
   "outputs": [],
   "source": [
    "#wap to cal area of circle,take input from user for radius 3.14*r*r\n",
    "#wap to cal area of rect,take input from user for radius l*b\n"
   ]
  },
  {
   "cell_type": "code",
   "execution_count": null,
   "id": "3091c8e1",
   "metadata": {},
   "outputs": [],
   "source": []
  },
  {
   "cell_type": "code",
   "execution_count": null,
   "id": "c089d977",
   "metadata": {},
   "outputs": [],
   "source": []
  }
 ],
 "metadata": {
  "kernelspec": {
   "display_name": "Python 3 (ipykernel)",
   "language": "python",
   "name": "python3"
  },
  "language_info": {
   "codemirror_mode": {
    "name": "ipython",
    "version": 3
   },
   "file_extension": ".py",
   "mimetype": "text/x-python",
   "name": "python",
   "nbconvert_exporter": "python",
   "pygments_lexer": "ipython3",
   "version": "3.9.12"
  }
 },
 "nbformat": 4,
 "nbformat_minor": 5
}
